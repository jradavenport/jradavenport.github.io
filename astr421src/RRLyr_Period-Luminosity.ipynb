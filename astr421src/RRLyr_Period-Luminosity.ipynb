{
 "cells": [
  {
   "cell_type": "markdown",
   "id": "45d8e061",
   "metadata": {},
   "source": [
    "# RR Lyrae Period-Luminosity\n",
    "\n",
    "Eric Bellm\n",
    "January 2022\n",
    "\n",
    "In this exercise we'll use real data from a variety of surveys to learn more about the relationship between an RR Lyrae variable's period and its luminosity."
   ]
  },
  {
   "cell_type": "code",
   "execution_count": 29,
   "id": "2fcc4d99",
   "metadata": {},
   "outputs": [],
   "source": [
    "%matplotlib notebook\n",
    "import numpy as np\n",
    "import pandas as pd\n",
    "import matplotlib.pyplot as plt\n",
    "\n",
    "from astropy.table import Table\n",
    "from astropy import units as u\n",
    "from astropy.time import Time\n",
    "from astropy.timeseries import TimeSeries, LombScargle"
   ]
  },
  {
   "cell_type": "markdown",
   "id": "6013832d",
   "metadata": {},
   "source": [
    "## 1. Finding the Period of an RR Lyrae star\n",
    "\n",
    "We begin by loading the ZTF lightcurve of a previously-identified RR Lyrae star.  We've pre-written this function for you."
   ]
  },
  {
   "cell_type": "code",
   "execution_count": 26,
   "id": "7118fafb",
   "metadata": {},
   "outputs": [],
   "source": [
    "def load_ztf_lc(filename):\n",
    "    \"\"\"Load a ZTF parquet lightcurve saved by `ztf_query`.\n",
    "    \n",
    "    See `ZTF_RRLyrae_data.ipynb` for data retrieval.\n",
    "    \n",
    "    Parameters\n",
    "    ----------\n",
    "    filename : string\n",
    "        path to a parquet file saved by `ztf_query`\n",
    "        \n",
    "    Returns\n",
    "    -------\n",
    "    tbl : `astropy.timeseries.TimeSeries`\n",
    "        lightcurve \n",
    "    mean_ra : `float`\n",
    "        mean right ascension of the source\n",
    "    mean_dec : `float`\n",
    "        mean declination of the source\n",
    "    \"\"\"\n",
    "    \n",
    "#     tbl = Table.read(filename, format='parquet')\n",
    "    tbl = pd.read_parquet(filename)\n",
    "    \n",
    "    # exclude flagged (bad) data\n",
    "    tbl = tbl[tbl['catflags'] == 0]\n",
    "    \n",
    "    # compute average position for this source\n",
    "    mean_ra = np.mean(tbl['ra'])\n",
    "    mean_dec = np.mean(tbl['dec'])\n",
    "    \n",
    "    return TimeSeries(time=Time(tbl['hjd'].values,format='jd'),\n",
    "                      data=Table.from_pandas(tbl[['mag','magerr','filtercode']])), mean_ra, mean_dec"
   ]
  },
  {
   "cell_type": "markdown",
   "id": "46d78783",
   "metadata": {},
   "source": [
    "We load it into an astropy [`Timeseries`](https://docs.astropy.org/en/stable/timeseries/index.html)."
   ]
  },
  {
   "cell_type": "code",
   "execution_count": null,
   "id": "b48429aa",
   "metadata": {},
   "outputs": [],
   "source": [
    "ts, mean_ra, mean_dec = load_ztf_lc('ztf_rrl_lightcurves/12.parquet')\n",
    "ts"
   ]
  },
  {
   "cell_type": "code",
   "execution_count": 135,
   "id": "c07f5acc",
   "metadata": {},
   "outputs": [
    {
     "name": "stdout",
     "output_type": "stream",
     "text": [
      "245.55715820833677 44.55899377304023\n"
     ]
    }
   ],
   "source": [
    "print(mean_ra, mean_dec)"
   ]
  },
  {
   "cell_type": "markdown",
   "id": "c4e703bd",
   "metadata": {},
   "source": [
    "Which filters are present?"
   ]
  },
  {
   "cell_type": "code",
   "execution_count": 30,
   "id": "9289d781",
   "metadata": {},
   "outputs": [
    {
     "data": {
      "text/plain": [
       "{'zg', 'zi', 'zr'}"
      ]
     },
     "execution_count": 30,
     "metadata": {},
     "output_type": "execute_result"
    }
   ],
   "source": [
    "set(ts['filtercode'])\n",
    "# this means {ZTF g-band, ZTF r-band, ZTF i-band}"
   ]
  },
  {
   "cell_type": "markdown",
   "id": "4e0af0f4",
   "metadata": {},
   "source": [
    "Let's assign default colors to these filters... you can change them if you like!"
   ]
  },
  {
   "cell_type": "code",
   "execution_count": 31,
   "id": "16d48672",
   "metadata": {},
   "outputs": [],
   "source": [
    "colors = {'zg':'C0',\n",
    "          'zr':'C1',\n",
    "          'zi':'C3'}"
   ]
  },
  {
   "cell_type": "markdown",
   "id": "7d5e5896",
   "metadata": {},
   "source": [
    "Next, let's plot the lightcurve."
   ]
  },
  {
   "cell_type": "code",
   "execution_count": 32,
   "id": "19227ec1",
   "metadata": {},
   "outputs": [],
   "source": [
    "def plot_lc(ts):\n",
    "    \"\"\"Plot a ZTF lightcurve.\n",
    "    \n",
    "    Parameters\n",
    "    ----------\n",
    "    ts :  `astropy.timeseries.TimeSeries`\n",
    "        ZTF lightcurve\n",
    "        \n",
    "    \"\"\"\n",
    "    \n",
    "    fig = plt.figure() \n",
    "    \n",
    "    # loop over the available filters\n",
    "    for filt in set(ts['filtercode']):\n",
    "        # select the rows that correspond to that filter\n",
    "        wfilt = ts['filtercode'] == filt\n",
    "        plt.errorbar(ts[wfilt].time.mjd,ts[wfilt]['mag'],ts[wfilt]['magerr'],\n",
    "                     label=filt, fmt='.', ls='none', color=colors[filt], alpha=0.6)\n",
    "        \n",
    "    plt.legend()\n",
    "    plt.xlabel('MJD (days)')\n",
    "    plt.ylabel('Magnitude')\n",
    "    plt.gca().invert_yaxis() # smaller magnitudes are brighter--flip the y axis!"
   ]
  },
  {
   "cell_type": "code",
   "execution_count": null,
   "id": "66c3446e",
   "metadata": {},
   "outputs": [],
   "source": [
    "plot_lc(ts)"
   ]
  },
  {
   "cell_type": "markdown",
   "id": "2e5310b3",
   "metadata": {},
   "source": [
    "Astropy's period finding expects the inputs to be in a single filter.  \n",
    "\n",
    "Let's define a selector that identifies only the rows with r-band data:"
   ]
  },
  {
   "cell_type": "code",
   "execution_count": 140,
   "id": "a8460bb5",
   "metadata": {},
   "outputs": [],
   "source": [
    "wr = ts['filtercode'] == 'zr'"
   ]
  },
  {
   "cell_type": "markdown",
   "id": "5a7fea60",
   "metadata": {},
   "source": [
    "Here's an example of how to apply it:"
   ]
  },
  {
   "cell_type": "code",
   "execution_count": null,
   "id": "d5e6c1a5",
   "metadata": {},
   "outputs": [],
   "source": [
    "ts[wr]['filtercode']"
   ]
  },
  {
   "cell_type": "markdown",
   "id": "ec1ce879",
   "metadata": {},
   "source": [
    "### Exercise 1 Tasks:\n",
    "\n",
    "* Compute the Lomb-Scargle periodogram for the r-band lightcurve using the astropy [`LombScargle`](https://docs.astropy.org/en/stable/timeseries/lombscargle.html) class.\n",
    "* Plot the resulting periodogram (frequency, power) or (period, power).  Label your axes.\n",
    "* Identify the \"best\" period from the periodogram (highest peak)\n",
    "* Plot the phase-folded lightcurve (in all 3 filters) for this period."
   ]
  },
  {
   "cell_type": "code",
   "execution_count": null,
   "id": "ed6565c8",
   "metadata": {},
   "outputs": [],
   "source": []
  },
  {
   "cell_type": "code",
   "execution_count": null,
   "id": "5797108c",
   "metadata": {},
   "outputs": [],
   "source": []
  },
  {
   "cell_type": "markdown",
   "id": "61d853ed",
   "metadata": {},
   "source": [
    "## 2. Plot Period-Luminosity relation\n",
    "\n",
    "If we computed a large number of periods for RR Lyrae for which we knew their distances, we could determine if there is a relationship between period and luminosity, and use it for new stars we discover.  \n",
    "\n",
    "Computing so many periods is a lot of work, so let's use a recently-published catalog from [Huang and Koposov 2022](https://ui.adsabs.harvard.edu/abs/2022MNRAS.510.3575H/abstract).  We will read in their catalog directly from one of the provided files:"
   ]
  },
  {
   "cell_type": "code",
   "execution_count": 38,
   "id": "30483371",
   "metadata": {},
   "outputs": [],
   "source": [
    "# read using astropy Tables\n",
    "\n",
    "# tbl = Table.read('rrl_main_cat.csv.gz')\n",
    "tbl = pd.read_csv('rrl_main_cat.csv.gz')"
   ]
  },
  {
   "cell_type": "code",
   "execution_count": 39,
   "id": "4f00b497",
   "metadata": {},
   "outputs": [
    {
     "data": {
      "text/plain": [
       "Index(['objid', 'source_id', 'ra', 'dec', 'prob_rrl', 'best_period', 'ebv',\n",
       "       'distance', 'mean_g', 'mean_r', 'mean_i', 'phot_g_mean_mag', 'amp_1_r',\n",
       "       'phi_1_r', 'amp_1_g', 'phi_1_g', 'amp_1_i', 'phi_1_i', 'amp_2_r',\n",
       "       'phi_2_r', 'amp_2_g', 'phi_2_g', 'amp_2_i', 'phi_2_i', 'amp_3_r',\n",
       "       'phi_3_r', 'amp_3_g', 'phi_3_g', 'amp_3_i', 'phi_3_i', 'ngooddet_g',\n",
       "       'ngooddet_r', 'ngooddet_i'],\n",
       "      dtype='object')"
      ]
     },
     "execution_count": 39,
     "metadata": {},
     "output_type": "execute_result"
    }
   ],
   "source": [
    "tbl.columns"
   ]
  },
  {
   "cell_type": "code",
   "execution_count": null,
   "id": "f6dfd6e8",
   "metadata": {
    "scrolled": false
   },
   "outputs": [],
   "source": [
    "tbl"
   ]
  },
  {
   "cell_type": "markdown",
   "id": "d0f5eb75",
   "metadata": {},
   "source": [
    "The catalog provides a probability that the stars they have selected are actually RR Lyrae.  Define a selector to only choose *high-confidence* RR Lyrae:"
   ]
  },
  {
   "cell_type": "code",
   "execution_count": 40,
   "id": "3a087754",
   "metadata": {},
   "outputs": [],
   "source": [
    "wgood = tbl['prob_rrl'] > 0.95"
   ]
  },
  {
   "cell_type": "markdown",
   "id": "6f3264f8",
   "metadata": {},
   "source": [
    "### Exercise 2 Tasks:\n",
    "\n",
    "    \n",
    "* Compute the absolute r-band magnitude for the high-confidence RR Lyrae using the provided values of distance (in pc) and dust extinction E(B-V) (the `ebv` column).  \n",
    "    * Use A_r = 2.27, so the extinction correction is $-2.27 \\times E(B-V)$ in magnitudes\n",
    "* Scatter plot the absolute magnitude versus catalog period (`best_period`).  Overplot the period-luminosity relation: $M_r = -1.6 \\:\\log_{10}(\\frac{P}{0.6}) + 0.51$, where $P$ is the period in days.\n",
    "    * HINT: There are some bad values, be sure to \"zoom in\" to see the majority of points\n",
    "* That period-luminosity relationship is not a great fit--the distances in the table were derived from averages over all three ZTF bands.  Fit a new linear period-luminosity relationship to the high-confidence RR Lyrae ([`astropy.modeling`](https://docs.astropy.org/en/stable/modeling/index.html) or [`np.polyfit`](https://numpy.org/doc/stable/reference/generated/numpy.polyfit.html) may be helpful) and overplot it.  \n",
    "    * HINT: Be sure that the `x` coordinate you fit is the log of the period: $\\log_{10}(\\frac{P}{0.6})$."
   ]
  },
  {
   "cell_type": "code",
   "execution_count": null,
   "id": "8a7809bf",
   "metadata": {},
   "outputs": [],
   "source": []
  },
  {
   "cell_type": "code",
   "execution_count": null,
   "id": "bdabe96f",
   "metadata": {},
   "outputs": [],
   "source": []
  },
  {
   "cell_type": "markdown",
   "id": "11d2a60c",
   "metadata": {},
   "source": [
    "## 3. Estimate distance from the Period-Luminosity relation."
   ]
  },
  {
   "cell_type": "markdown",
   "id": "983af862",
   "metadata": {},
   "source": [
    "Now let's compute the distance our period-luminosity relationship implies for the RR Lyrae in exercise 1.\n",
    "\n",
    "We will need the E(B-V) value at the source location, which we are providing you:\n",
    "\n",
    "**E(B-V) = 0.012 mag**"
   ]
  },
  {
   "cell_type": "code",
   "execution_count": 5,
   "id": "1beacaa0",
   "metadata": {},
   "outputs": [],
   "source": [
    "ztf_src_ebv = 0.012"
   ]
  },
  {
   "cell_type": "markdown",
   "id": "c49c5bd1",
   "metadata": {},
   "source": [
    "But you *could* programatically get it like this:"
   ]
  },
  {
   "cell_type": "code",
   "execution_count": 4,
   "id": "ce889554",
   "metadata": {},
   "outputs": [],
   "source": [
    "# from astroquery.ipac.irsa.irsa_dust import IrsaDust\n",
    "# from astropy.coordinates import SkyCoord\n",
    "\n",
    "# ztf_src_sc = SkyCoord(mean_ra, mean_dec, unit='degree')\n",
    "\n",
    "# ztf_src_ebv = IrsaDust.get_query_table(ztf_src_sc,section='ebv')['ext SFD mean'].value[0]\n",
    "# ztf_src_ebv"
   ]
  },
  {
   "cell_type": "markdown",
   "id": "7c7688c2",
   "metadata": {},
   "source": [
    "For this exercise:\n",
    "\n",
    "* Use the period-luminosity relationship and the best-fit period of the source from Exercise 1 to **estimate the  distance in parsecs to our RR Lyr star.**"
   ]
  },
  {
   "cell_type": "code",
   "execution_count": null,
   "id": "9b8e43de",
   "metadata": {},
   "outputs": [],
   "source": []
  }
 ],
 "metadata": {
  "kernelspec": {
   "display_name": "Python 3 (ipykernel)",
   "language": "python",
   "name": "python3"
  },
  "language_info": {
   "codemirror_mode": {
    "name": "ipython",
    "version": 3
   },
   "file_extension": ".py",
   "mimetype": "text/x-python",
   "name": "python",
   "nbconvert_exporter": "python",
   "pygments_lexer": "ipython3",
   "version": "3.8.5"
  }
 },
 "nbformat": 4,
 "nbformat_minor": 5
}
